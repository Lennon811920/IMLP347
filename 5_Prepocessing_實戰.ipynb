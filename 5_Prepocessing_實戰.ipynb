{
 "cells": [
  {
   "cell_type": "markdown",
   "metadata": {},
   "source": [
    "# 資料前處理(Missing data, One-hot encoding, Feature Scaling)\n",
    "資料的品質、特徵的選取決定了機器學習的上限，模型(Model)只是逼近這個上限。<br>\n",
    "雖然在學術界總是以Model為主要討論對象，但實際上在業界80%的時間都是在對資料進行前處理，<br>\n",
    "包含了資料獲取、清理、特徵選擇、特徵處理…到這裡我們可以稍微了解資料前處理的重要性。<br>\n",
    "\n",
    "常見的資料前處理如下所示：<br>\n",
    "1.缺失值的處理<br>\n",
    "2.類別資料的處理（有序、無序）<br>\n",
    "3.資料特徵縮放<br>"
   ]
  },
  {
   "cell_type": "markdown",
   "metadata": {},
   "source": [
    "import numpy as np\n",
    "import pandas as pd\n",
    "from sklearn import datasets\n",
    "from io import StringIO\n",
    "import math"
   ]
  },
  {
   "cell_type": "markdown",
   "metadata": {},
   "source": [
    "## 1. 缺失值的處理\n",
    "缺值主要處理方式有兩種：<br>\n",
    "*丟棄，如果資料量夠多<br>\n",
    "*補值<br>"
   ]
  },
  {
   "cell_type": "markdown",
   "metadata": {},
   "source": [
    "csv_data = '''A,B,C,D,E\n",
    "            5.0,2.0,3.0,,6\n",
    "            1.0,6.0,,8.0,5\n",
    "            0.0,11.0,12.0,4.0,5\n",
    "            3.0,,3.0,5.0,\n",
    "            5.0,1.0,4.0,2.0,4\n",
    "           '''\n",
    "df = pd.read_csv(StringIO(csv_data))"
   ]
  },
  {
   "cell_type": "markdown",
   "metadata": {},
   "source": [
    "df = pd.read_csv('preText.csv')"
   ]
  },
  {
   "cell_type": "markdown",
   "metadata": {},
   "source": [
    "df"
   ]
  },
  {
   "cell_type": "markdown",
   "metadata": {},
   "source": [
    "## Missing Data(空值資料處理)\n",
    "\n",
    "使用Pandas去空值的方法“dropna”，dropna預設只要任一欄位有空值，就會整筆刪掉。<br>\n",
    "可透過參數來調整，像是把how設為all，就是要全部為空才清掉，或是用subset指定當某一欄為空時才刪。"
   ]
  },
  {
   "cell_type": "markdown",
   "metadata": {},
   "source": [
    "df.dropna()"
   ]
  },
  {
   "cell_type": "markdown",
   "metadata": {},
   "source": [
    "df.dropna(how = 'all')"
   ]
  },
  {
   "cell_type": "markdown",
   "metadata": {},
   "source": [
    "df.dropna(subset = ['C'])"
   ]
  },
  {
   "cell_type": "markdown",
   "metadata": {},
   "source": [
    "補值則使用fillna函式即可，依照以下範例即可補上固定值0、平均數、眾數、中位數…"
   ]
  },
  {
   "cell_type": "markdown",
   "metadata": {},
   "source": [
    "df.fillna(0)"
   ]
  },
  {
   "cell_type": "markdown",
   "metadata": {},
   "source": [
    "df['B'] = df['B'].fillna(df['B'].mean())\n",
    "df"
   ]
  },
  {
   "cell_type": "markdown",
   "metadata": {},
   "source": [
    "df['C'] = df['C'].fillna(df['C'].mode()[0])\n",
    "df"
   ]
  },
  {
   "cell_type": "markdown",
   "metadata": {},
   "source": [
    "df['D'] = df['D'].fillna(df['D'].median())\n",
    "df"
   ]
  },
  {
   "cell_type": "markdown",
   "metadata": {},
   "source": [
    "df['E'] = df['E'].fillna(df['E'].min())\n",
    "df"
   ]
  },
  {
   "cell_type": "markdown",
   "metadata": {
    "collapsed": true
   },
   "source": [
    "## 2.Categorical Data(類別資料處理)\n",
    "由於要在空間中表示點，所有的特徵都需要是數值，因此如果是類別的資料，<br>\n",
    "像是XL,L,M,S,XS或是資料類別為Male, Female, Not Specified，就需要轉成數值才能在空間中來表示。<br>\n",
    "有序的類別資料通常是直接使用數值替換，比方說XL, L, M, S, XS雖然是類別的屬性但因為有大小順序的關係，可以用10, 7 , 5, 3, 1來替換。<br>如果是Male, Female, Not Specified因為這三種都是等價的關係因此需要找一個方法讓這三個屬性距離原點是相同距離，<br>\n",
    "One-hot encoding 就是解決這的問題的方法，首先會將Male, Female, Not Specified由Gender從成一個欄位拆成三個欄位，<br>\n",
    "因此編號1的使用者的屬性資料就是(1,0,0)編號2的使用者就是(0,1,0) 編號三個使用者就是(0,0,1)這三個使用者對於原點的距離都是1，就達成我們想要的結果了。<br>\n",
    "但One-hot encoding的方法只適合類別種類少的形況下，如果類別種類太多就會產生出一大堆的特徵，造成其他的問題（比方說維數災難）。"
   ]
  },
  {
   "cell_type": "markdown",
   "metadata": {},
   "source": [
    "df2 = pd.DataFrame(\n",
    "    [['green', 'M', 10.1, 1],\n",
    "    ['red', 'L', 13.5, 2],\n",
    "    ['blue', 'XL', 15.3, 1]]\n",
    ")\n",
    "df2.columns = ['color', 'size', 'price', 'classlabel']\n",
    "df2"
   ]
  },
  {
   "cell_type": "markdown",
   "metadata": {},
   "source": [
    "由於size是屬於有序的資料，我們只要稍微轉換為數值即可"
   ]
  },
  {
   "cell_type": "markdown",
   "metadata": {},
   "source": [
    "size_mapping = [\n",
    "    'XL':3,\n",
    "    'L':2,\n",
    "    'M':1\n",
    "]\n",
    "\n",
    "df2['size'] = df2['size'].map(size_mapping)\n",
    "df2"
   ]
  },
  {
   "cell_type": "markdown",
   "metadata": {},
   "source": [
    "至於color我們就用onehot-encoding的方法來處理，在pandas裡面要使用<br>\n",
    "onehot-encoding使用get_dummies這個函式就可以了，範例如下\n"
   ]
  },
  {
   "cell_type": "markdown",
   "metadata": {},
   "source": [
    "onehot_encoding = pd.get_dummies(df2['color'], prefix = 'color')\n",
    "onrhot_encoding"
   ]
  },
  {
   "cell_type": "markdown",
   "metadata": {},
   "source": [
    "pd.concat([onehot_encoding, df2], axis = 1)"
   ]
  },
  {
   "cell_type": "markdown",
   "metadata": {},
   "source": [
    "df2 = df2.drop('color', 1)"
   ]
  },
  {
   "cell_type": "markdown",
   "metadata": {},
   "source": [
    "pd.concat([onehot_encoding, df2], axis = 1)"
   ]
  },
  {
   "cell_type": "markdown",
   "metadata": {},
   "source": [
    "# 3.資料特徵縮放\n",
    "## 資料正規化(normalization)\n",
    "最常見的Normalization為0–1區間縮放，經過Normalization之後資料的範圍會介在0~1之間，<br>\n",
    "原本的最大值變為1，最小值變為0，具體作法如下圖\n"
   ]
  },
  {
   "cell_type": "markdown",
   "metadata": {},
   "source": [
    "from IPython.display import Math"
   ]
  },
  {
   "cell_type": "markdown",
   "metadata": {},
   "source": [
    "Math(r'x^{(i)}_{norm}=\\frac{x^{(i)}-x_{min}}{x_{max}-x_{min}}')\n",
    "\n"
   ]
  },
  {
   "cell_type": "markdown",
   "metadata": {},
   "source": [
    "import numpy as np\n",
    "import pandas as pd\n",
    "from sklearn import datasets\n",
    "from io import StringIO\n",
    "\n",
    "iris = datasets.load_iris()\n",
    "x = pd.DataFrame(iris['data'], columns=iris['feature_names'])\n",
    "print(\"target_names: \"+str(iris['target_names']))\n",
    "y = pd.DataFrame(iris['target'], columns=['target_names'])\n",
    "data = pd.concat([x,y], axis=1)\n",
    "data.head(3)"
   ]
  },
  {
   "cell_type": "markdown",
   "metadata": {},
   "source": [
    "data['sepal length (cm)'] = (data['sepal length (cm)'] - data['sepal length (cm)'].min())/\\\n",
    "                            (data['sepal length (cm)'].max() - data['sepal length (cm)'].min())\n",
    "\n",
    "data['sepal width (cm)'] = (data['sepal width (cm)'] - data['sepal width (cm)'].min())/\\\n",
    "                            (data['sepal width (cm)'].max() - data['sepal width (cm)'].min())\n",
    "\n",
    "data['petal length (cm)'] = (data['petal length (cm)'] - data['petal length (cm)'].min())/\\\n",
    "                            (data['petal length (cm)'].max() - data['petal length (cm)'].min())\n",
    "\n",
    "data['petal width (cm)'] = (data['petal width (cm)'] - data['petal width (cm)'].min())/\\\n",
    "                            (data['petal width (cm)'].max() - data['petal width (cm)'].min())\n",
    "\n",
    "data.head()"
   ]
  },
  {
   "cell_type": "markdown",
   "metadata": {},
   "source": [
    "## 資料標準化(Standardization)\n",
    "經過Standardization資料的平均值會變為0, 標準差變為1"
   ]
  },
  {
   "cell_type": "markdown",
   "metadata": {},
   "source": [
    "Math(r'x^{(i)}_{std}=\\frac{x^{(i)}-\\mu_{x}}{\\sigma_{x}}')\n",
    "\n"
   ]
  },
  {
   "cell_type": "markdown",
   "metadata": {},
   "source": [
    "data['sepal length (cm)'] = (data['sepal length (cm)'] - data['sepal length (cm)'].mean())/\\\n",
    "                            (data['sepal length (cm)'].std())\n",
    "\n",
    "data.head()"
   ]
  },
  {
   "cell_type": "code",
   "execution_count": null,
   "metadata": {},
   "outputs": [],
   "source": []
  }
 ],
 "metadata": {
  "kernelspec": {
   "display_name": "Python 3",
   "language": "python",
   "name": "python3"
  },
  "language_info": {
   "codemirror_mode": {
    "name": "ipython",
    "version": 3
   },
   "file_extension": ".py",
   "mimetype": "text/x-python",
   "name": "python",
   "nbconvert_exporter": "python",
   "pygments_lexer": "ipython3",
   "version": "3.8.8"
  }
 },
 "nbformat": 4,
 "nbformat_minor": 2
}
